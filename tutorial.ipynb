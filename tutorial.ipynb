{
 "cells": [
  {
   "cell_type": "code",
   "execution_count": 4,
   "id": "1d727eee",
   "metadata": {},
   "outputs": [
    {
     "name": "stdout",
     "output_type": "stream",
     "text": [
      "Python 3.11.11\n",
      "Name: tobbo\n",
      "Version: 0.1.0\n",
      "Summary: Topology Optimization with Black-Box Optimization methods\n",
      "Home-page: https://github.com/jelle-westra/tobbo\n",
      "Author: jelle-westra\n",
      "Author-email: jelwestra@gmail.com\n",
      "License: MIT\n",
      "Location: /Users/jelle-westra/Documents/projects/tobbo/.venv/lib/python3.11/site-packages\n",
      "Requires: cma, GPy, hebo, matplotlib, numpy, rasterio, scipy, shapely, tqdm\n",
      "Required-by: \n"
     ]
    }
   ],
   "source": [
    "!python --version\n",
    "!pip show tobbo"
   ]
  },
  {
   "cell_type": "markdown",
   "id": "2f6b80fd",
   "metadata": {},
   "source": [
    "# Install/Build `tobbo`\n",
    "\n",
    "Build from local source:\n",
    "- `(.venv) $ pip install package/` \n",
    "\n",
    "Or from PyPi (TODO):\n",
    "- `(.venv) $ pip install ____`"
   ]
  },
  {
   "cell_type": "code",
   "execution_count": 3,
   "id": "0bb43340",
   "metadata": {},
   "outputs": [
    {
     "data": {
      "image/svg+xml": [
       "<svg xmlns=\"http://www.w3.org/2000/svg\" xmlns:xlink=\"http://www.w3.org/1999/xlink\" width=\"108.0\" height=\"100.0\" viewBox=\"-4.0 -4.0 108.0 58.0\" preserveAspectRatio=\"xMinYMin meet\"><g transform=\"matrix(1,0,0,-1,0,50.0)\"><path fill-rule=\"evenodd\" fill=\"#66cc99\" stroke=\"#555555\" stroke-width=\"2.0\" opacity=\"0.6\" d=\"M 100.0,0.0 L 100.0,50.0 L 0.0,50.0 L 0.0,0.0 L 100.0,0.0 z\" /></g></svg>"
      ],
      "text/plain": [
       "<POLYGON ((100 0, 100 50, 0 50, 0 0, 100 0))>"
      ]
     },
     "execution_count": 3,
     "metadata": {},
     "output_type": "execute_result"
    }
   ],
   "source": [
    "from tobbo.core import Topology\n",
    "\n",
    "topology = Topology(False, (100, 50), 1.)\n",
    "\n",
    "topology.domain"
   ]
  }
 ],
 "metadata": {
  "kernelspec": {
   "display_name": ".venv",
   "language": "python",
   "name": "python3"
  },
  "language_info": {
   "codemirror_mode": {
    "name": "ipython",
    "version": 3
   },
   "file_extension": ".py",
   "mimetype": "text/x-python",
   "name": "python",
   "nbconvert_exporter": "python",
   "pygments_lexer": "ipython3",
   "version": "3.11.11"
  }
 },
 "nbformat": 4,
 "nbformat_minor": 5
}
