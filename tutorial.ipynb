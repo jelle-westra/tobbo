{
 "cells": [
  {
   "cell_type": "code",
   "execution_count": 1,
   "id": "1d727eee",
   "metadata": {},
   "outputs": [
    {
     "name": "stdout",
     "output_type": "stream",
     "text": [
      "Python 3.11.11\n",
      "Name: tobbo\n",
      "Version: 0.1.0\n",
      "Summary: Topology Optimization with Black-Box Optimization methods\n",
      "Home-page: https://github.com/jelle-westra/tobbo\n",
      "Author: _______, _____________, _________\n",
      "Author-email: ________@gmail.com\n",
      "License: MIT\n",
      "Location: /Users/jelle-westra/Documents/projects/tobbo/.venv/lib/python3.11/site-packages\n",
      "Requires: cma, GPy, hebo, matplotlib, numpy, rasterio, scipy, shapely, tqdm\n",
      "Required-by: \n"
     ]
    }
   ],
   "source": [
    "!python --version\n",
    "!pip show tobbo"
   ]
  },
  {
   "cell_type": "code",
   "execution_count": 2,
   "id": "de6b4133",
   "metadata": {},
   "outputs": [],
   "source": [
    "# importing the usual suspects\n",
    "import numpy as np\n",
    "import matplotlib.pyplot as plt"
   ]
  },
  {
   "cell_type": "code",
   "execution_count": 3,
   "id": "07970f94",
   "metadata": {},
   "outputs": [],
   "source": [
    "plt.rcParams['axes.spines.top'] = False\n",
    "plt.rcParams['axes.spines.right'] = False\n",
    "plt.rcParams['xtick.direction'] = 'in'\n",
    "plt.rcParams['ytick.direction'] = 'in'\n",
    "\n",
    "plt.rc('font', family='serif', serif=\"cmr10\", size=18)\n",
    "plt.rc('mathtext', fontset='cm', rm='serif')\n",
    "plt.rc('axes', unicode_minus=False)\n",
    "\n",
    "plt.rcParams['axes.formatter.use_mathtext'] = True"
   ]
  },
  {
   "cell_type": "markdown",
   "id": "2f6b80fd",
   "metadata": {},
   "source": [
    "# Install/Build `tobbo`\n",
    "\n",
    "Build from local source:\n",
    "- `(.venv) $ pip install package/` \n",
    "\n",
    "Or from PyPi (TODO):\n",
    "- `(.venv) $ pip install ____`"
   ]
  },
  {
   "cell_type": "markdown",
   "id": "c14645af",
   "metadata": {},
   "source": [
    "# Minimal Example\n",
    "\n",
    "Setting up a TO experiment with tobbo is four-fold:\n",
    "\n",
    "1) **Domain** definition; setting up the Topology container.\n",
    "2) **Parameterization** definition; a mapping for generating geometry from design vectors.\n",
    "3) **Problem** definition; physics model, constraints, objective.\n",
    "3) **Optimization**; using a BBO method for minimizing the objective.\n",
    "\n",
    "Topology is used as data container for domain configuration, and holding the geometry in polygonal- and discretized binary mask form. This binary mask is used to activate material in the mesh of the physics model. The polygonal representation is used for calculation of the constraint functions. "
   ]
  },
  {
   "cell_type": "code",
   "execution_count": 4,
   "id": "0bb43340",
   "metadata": {},
   "outputs": [
    {
     "data": {
      "image/svg+xml": [
       "<svg xmlns=\"http://www.w3.org/2000/svg\" xmlns:xlink=\"http://www.w3.org/1999/xlink\" width=\"108.0\" height=\"100.0\" viewBox=\"-4.0 -4.0 108.0 58.0\" preserveAspectRatio=\"xMinYMin meet\"><g transform=\"matrix(1,0,0,-1,0,50.0)\"><path fill-rule=\"evenodd\" fill=\"#66cc99\" stroke=\"#555555\" stroke-width=\"2.0\" opacity=\"0.6\" d=\"M 100.0,0.0 L 100.0,50.0 L 0.0,50.0 L 0.0,0.0 L 100.0,0.0 z\" /></g></svg>"
      ],
      "text/plain": [
       "<POLYGON ((100 0, 100 50, 0 50, 0 0, 100 0))>"
      ]
     },
     "execution_count": 4,
     "metadata": {},
     "output_type": "execute_result"
    }
   ],
   "source": [
    "from tobbo.core import Topology\n",
    "\n",
    "topology = Topology(False, (100, 50), 1.)\n",
    "\n",
    "topology.domain"
   ]
  },
  {
   "cell_type": "markdown",
   "id": "e3b1e1ab",
   "metadata": {},
   "source": [
    "We use the rasterized polygonal geometry for calculating constraint (`continuous=False`), such that it is one-to-one with the physics mesh. Sometimes the underlying continuous geometry can be barely connected, whereas after rasterization this is not the case, this results to spurious calls to the physics simulation."
   ]
  },
  {
   "cell_type": "markdown",
   "id": "ed29abf5",
   "metadata": {},
   "source": [
    "A `Parameterization` forms a mapping between the desgin space $[0,1]^d$ and generated geometry. "
   ]
  },
  {
   "cell_type": "code",
   "execution_count": 5,
   "id": "576285fa",
   "metadata": {},
   "outputs": [],
   "source": [
    "from tobbo.parameterizations.mmc import Capsules, MMCEndpointsConfig\n",
    "\n",
    "# Capsules is a subclass of Parameterization\n",
    "parameterization = Capsules(topology, \n",
    "    symmetry_x=False, \n",
    "    symmetry_y=True,\n",
    "    n_components=1, # no. components before mirroring\n",
    "    representation=MMCEndpointsConfig, # see explaination below\n",
    "    deformer=None, \n",
    "    n_samples=1000\n",
    ")"
   ]
  },
  {
   "cell_type": "markdown",
   "id": "57d8fe81",
   "metadata": {},
   "source": [
    "`Capsules` generates beams with rounded caps, in this case we define a $y$-symmetry to mirror all generated beams among the horizontal centerline of the problem domain (see below). \n",
    "\n",
    "`representation` refers to the way we describe a beam; by its endpoints and radius in this case, but you can also define the representation to be `MMCAngularConfig` which uses a center point, angle and dimensions of the beam."
   ]
  },
  {
   "cell_type": "code",
   "execution_count": 6,
   "id": "d27970f2",
   "metadata": {},
   "outputs": [
    {
     "data": {
      "image/png": "[encoded data removed]",
      "text/plain": [
       "<Figure size 640x480 with 1 Axes>"
      ]
     },
     "metadata": {},
     "output_type": "display_data"
    }
   ],
   "source": [
    "#            [x1 y1 x2 y2   r  ]\n",
    "x = np.array([0, 0, 1, 0.2, 0.1])\n",
    "parameterization.update_topology(topology, x)\n",
    "\n",
    "topology.plot()"
   ]
  },
  {
   "cell_type": "markdown",
   "id": "3f610ee6",
   "metadata": {},
   "source": [
    "Under the hood `Topology` stores two representations of the geometry:\n",
    "- Polygonal, used to calculate constraints; and\n",
    "- Mask, a discretized binary mask which can be used by an FE model."
   ]
  },
  {
   "cell_type": "code",
   "execution_count": 7,
   "id": "29a03ef9",
   "metadata": {},
   "outputs": [
    {
     "data": {
      "image/svg+xml": [
       "<svg xmlns=\"http://www.w3.org/2000/svg\" xmlns:xlink=\"http://www.w3.org/1999/xlink\" width=\"108.0\" height=\"100.0\" viewBox=\"-4.0 -4.0 108.0 58.0\" preserveAspectRatio=\"xMinYMin meet\"><g transform=\"matrix(1,0,0,-1,0,50.0)\"><g><path fill-rule=\"evenodd\" fill=\"#66cc99\" stroke=\"#555555\" stroke-width=\"2.0\" opacity=\"0.6\" d=\"M 0.0,0.0 L 0.0,2.0 L 1.0,2.0 L 1.0,3.0 L 7.0,3.0 L 7.0,4.0 L 17.0,4.0 L 17.0,5.0 L 27.0,5.0 L 27.0,6.0 L 37.0,6.0 L 37.0,7.0 L 47.0,7.0 L 47.0,8.0 L 57.0,8.0 L 57.0,9.0 L 67.0,9.0 L 67.0,10.0 L 77.0,10.0 L 77.0,11.0 L 87.0,11.0 L 87.0,12.0 L 97.0,12.0 L 97.0,13.0 L 98.0,13.0 L 98.0,12.0 L 99.0,12.0 L 99.0,11.0 L 100.0,11.0 L 100.0,8.0 L 99.0,8.0 L 99.0,7.0 L 93.0,7.0 L 93.0,6.0 L 83.0,6.0 L 83.0,5.0 L 73.0,5.0 L 73.0,4.0 L 63.0,4.0 L 63.0,3.0 L 53.0,3.0 L 53.0,2.0 L 43.0,2.0 L 43.0,1.0 L 33.0,1.0 L 33.0,0.0 L 0.0,0.0 z\" /><path fill-rule=\"evenodd\" fill=\"#66cc99\" stroke=\"#555555\" stroke-width=\"2.0\" opacity=\"0.6\" d=\"M 97.0,37.0 L 97.0,38.0 L 87.0,38.0 L 87.0,39.0 L 77.0,39.0 L 77.0,40.0 L 67.0,40.0 L 67.0,41.0 L 57.0,41.0 L 57.0,42.0 L 47.0,42.0 L 47.0,43.0 L 37.0,43.0 L 37.0,44.0 L 27.0,44.0 L 27.0,45.0 L 17.0,45.0 L 17.0,46.0 L 7.0,46.0 L 7.0,47.0 L 1.0,47.0 L 1.0,48.0 L 0.0,48.0 L 0.0,50.0 L 33.0,50.0 L 33.0,49.0 L 43.0,49.0 L 43.0,48.0 L 53.0,48.0 L 53.0,47.0 L 63.0,47.0 L 63.0,46.0 L 73.0,46.0 L 73.0,45.0 L 83.0,45.0 L 83.0,44.0 L 93.0,44.0 L 93.0,43.0 L 99.0,43.0 L 99.0,42.0 L 100.0,42.0 L 100.0,39.0 L 99.0,39.0 L 99.0,38.0 L 98.0,38.0 L 98.0,37.0 L 97.0,37.0 z\" /></g></g></svg>"
      ],
      "text/plain": [
       "<MULTIPOLYGON (((0 0, 0 2, 1 2, 1 3, 7 3, 7 4, 17 4, 17 5, 27 5, 27 6, 37 6,...>"
      ]
     },
     "execution_count": 7,
     "metadata": {},
     "output_type": "execute_result"
    }
   ],
   "source": [
    "topology.geometry"
   ]
  },
  {
   "cell_type": "code",
   "execution_count": 8,
   "id": "3d3f9482",
   "metadata": {},
   "outputs": [
    {
     "data": {
      "image/png": "[encoded data removed]",
      "text/plain": [
       "<Figure size 640x480 with 1 Axes>"
      ]
     },
     "metadata": {},
     "output_type": "display_data"
    }
   ],
   "source": [
    "plt.imshow(topology.mask);"
   ]
  },
  {
   "cell_type": "markdown",
   "id": "6f75685a",
   "metadata": {},
   "source": [
    "A `ProblemInstance` can be called with a trial vector which runs the simulation if constraints are met. \n",
    "\n",
    "`create_horizontal_cantilever_problem` set ups such a problem for the horizontal cantilever problem: wall on the left hand side and a load applied on the right side. In the section Problem Formulation it is explained how to setup a custom problem.\n",
    "\n",
    "$$\n",
    "f_\\text{obj}(\\mathbf{x}) = \\begin{cases}\n",
    "    g(\\mathbf{x}) \\text{ if } g(\\mathbf{x}) > 0 \\\\\n",
    "    f(\\mathbf{x}) \\text{ otherwise. }\n",
    "\\end{cases}\n",
    "$$\n",
    "\n",
    "That is, the simulation is only ran for legal configurations of the geometry (feasible), for infeasible designs the score of the constraint function is returned and the simulation budget is not decremented."
   ]
  },
  {
   "cell_type": "code",
   "execution_count": 9,
   "id": "1835ad91",
   "metadata": {},
   "outputs": [],
   "source": [
    "from tobbo.problems import create_horizontal_cantilever_problem\n",
    "\n",
    "problem = create_horizontal_cantilever_problem(\n",
    "    topology, \n",
    "    parameterization\n",
    ")"
   ]
  },
  {
   "cell_type": "code",
   "execution_count": 10,
   "id": "b14cc158",
   "metadata": {},
   "outputs": [
    {
     "data": {
      "text/plain": [
       "<tobbo.models.membrane.BinaryElasticMembraneModel at 0x13d861950>"
      ]
     },
     "execution_count": 10,
     "metadata": {},
     "output_type": "execute_result"
    }
   ],
   "source": [
    "# the physics model, being called when the trial vector is feasible\n",
    "problem.model"
   ]
  },
  {
   "cell_type": "code",
   "execution_count": 11,
   "id": "abfdd5ed",
   "metadata": {},
   "outputs": [
    {
     "data": {
      "text/plain": [
       "[ConstraintMix(weight=1, constraints=[VolumeConstraint(weight=1000.0, max_relative_volume=0.5), DisconnectionConstraint(weight=1000.0, topology=Topology(continuous=False, domain_size=(100, 50), density=1.0), boundaries=[<POINT (1 0.5)>, <LINESTRING (0 0, 0 1)>])], offset=500)]"
      ]
     },
     "execution_count": 11,
     "metadata": {},
     "output_type": "execute_result"
    }
   ],
   "source": [
    "# the constraint function\n",
    "problem.topology_constraints"
   ]
  },
  {
   "cell_type": "markdown",
   "id": "4109c266",
   "metadata": {},
   "source": [
    "In our case we sum two constraints: \n",
    "- `VolumeConstraint` $(g_1)$ penalizing the exceeded volume over a pre-specified budget.\n",
    "- `DisconnectionConstraint` $(g_2)$ penalizing based on the least distance required to make the design connected, to itself, and to pre-specified boundary conditions.\n",
    "\n",
    "$$\n",
    "g(\\mathbf{x}) = c_1g_1(\\mathbf{x}) + c_2g_2(\\mathbf{x}) + \\max_{x'\\in \\mathcal{X}_\\text{feasible}} f(\\mathbf{x}')\n",
    "$$\n",
    "\n",
    "To create an artificial funnel structure towards the feasible region and to ensure this fitness is higher than the fitness of feasible desings the constraint function is offset with the worst (max) feasible design. For this problem we estimated this design would be around the compliance of 500 (a decent design is below 0.1)."
   ]
  },
  {
   "cell_type": "code",
   "execution_count": 12,
   "id": "5a55127a",
   "metadata": {},
   "outputs": [
    {
     "name": "stdout",
     "output_type": "stream",
     "text": [
      "(4_w,8)-aCMA-ES (mu_w=2.6,w_1=52%) in dimension 5 (seed=1, Mon Oct 13 09:55:00 2025)\n",
      "Iterat #Fevals   function value  axis ratio  sigma  min&max std  t[m:s]\n",
      "    1      8 6.697056274847714e+02 1.0e+00 2.51e-01  2e-01  3e-01 0:00.0\n",
      "    2     16 2.043857152229669e+00 1.3e+00 2.92e-01  3e-01  3e-01 0:00.3\n",
      "    3     24 5.608504366272913e+02 1.5e+00 2.92e-01  2e-01  3e-01 0:00.3\n",
      "   22    176 5.092354039324587e-01 2.9e+00 4.35e-02  2e-02  4e-02 0:04.0\n",
      "   27    216 2.205799576087525e-01 3.7e+00 4.16e-02  2e-02  5e-02 0:09.3\n",
      "   32    256 1.049632949995606e-01 4.3e+00 6.09e-02  2e-02  7e-02 0:14.6\n",
      "[stop]\n"
     ]
    }
   ],
   "source": [
    "from tobbo.core import run_experiment, OptimizationMethod\n",
    "\n",
    "run_experiment(problem, \n",
    "    budget=100, \n",
    "    seed=1, \n",
    "    name='minimal-example', \n",
    "    method=OptimizationMethod.CMAES\n",
    ")"
   ]
  },
  {
   "cell_type": "code",
   "execution_count": 13,
   "id": "3533675d",
   "metadata": {},
   "outputs": [
    {
     "data": {
      "image/png": "[encoded data removed]",
      "text/plain": [
       "<Figure size 640x480 with 1 Axes>"
      ]
     },
     "metadata": {},
     "output_type": "display_data"
    }
   ],
   "source": [
    "problem.plot_log()\n",
    "plt.gca().set_yscale('linear')"
   ]
  },
  {
   "cell_type": "markdown",
   "id": "ddd8da1b",
   "metadata": {},
   "source": [
    "# Parameterizations"
   ]
  },
  {
   "cell_type": "markdown",
   "id": "3574f0c9",
   "metadata": {},
   "source": [
    "# Parameterization Formulation"
   ]
  },
  {
   "cell_type": "markdown",
   "id": "b9c0151d",
   "metadata": {},
   "source": [
    "# Custom BBO Algorithm"
   ]
  },
  {
   "cell_type": "code",
   "execution_count": 14,
   "id": "e1abb772",
   "metadata": {},
   "outputs": [],
   "source": [
    "from tobbo.core import ProblemInstance\n",
    "\n",
    "import os\n",
    "from scipy.optimize import minimize\n",
    "\n",
    "def run_experiment_custom(\n",
    "    problem: ProblemInstance,\n",
    "    budget: int,\n",
    "    seed: int,\n",
    "    name: str,\n",
    ") -> None:\n",
    "    np.random.seed(seed)\n",
    "    problem.logger_output_directory = f'./results/{name}/{seed}'\n",
    "    os.makedirs(problem.logger_output_directory, exist_ok=True)\n",
    "    problem.set_budget(budget)\n",
    "\n",
    "    try:\n",
    "        minimize(problem, problem.parameterization.gen_x0(), method='Nelder-Mead')\n",
    "    except KeyboardInterrupt:\n",
    "        pass\n",
    "    print('[stop]')"
   ]
  },
  {
   "cell_type": "code",
   "execution_count": 15,
   "id": "45af1867",
   "metadata": {},
   "outputs": [
    {
     "name": "stdout",
     "output_type": "stream",
     "text": [
      "[stop]\n"
     ]
    }
   ],
   "source": [
    "from tobbo.parameterizations.mmc import MMCCenterpointsConfig\n",
    "\n",
    "# Capsules is a subclass of Parameterization\n",
    "parameterization = Capsules(topology, \n",
    "    symmetry_x=False, \n",
    "    symmetry_y=True,\n",
    "    n_components=1, # no. components before mirroring\n",
    "    representation=MMCCenterpointsConfig, \n",
    "    deformer=None, \n",
    "    n_samples=1000\n",
    ")\n",
    "\n",
    "problem: ProblemInstance = create_horizontal_cantilever_problem(\n",
    "    topology, \n",
    "    parameterization\n",
    ")\n",
    "\n",
    "run_experiment_custom(problem, 100, 1, 'custom-bbo')"
   ]
  },
  {
   "cell_type": "code",
   "execution_count": 16,
   "id": "9969f71b",
   "metadata": {},
   "outputs": [
    {
     "data": {
      "image/png": "[encoded data removed]",
      "text/plain": [
       "<Figure size 640x480 with 1 Axes>"
      ]
     },
     "metadata": {},
     "output_type": "display_data"
    }
   ],
   "source": [
    "problem.plot_best()"
   ]
  },
  {
   "cell_type": "markdown",
   "id": "44a2b3aa",
   "metadata": {},
   "source": [
    "# Problem Formulation "
   ]
  },
  {
   "cell_type": "code",
   "execution_count": 17,
   "id": "220197de",
   "metadata": {},
   "outputs": [],
   "source": [
    "from tobbo.core import Parameterization, Topology, ProblemInstance, VolumeConstraint, DisconnectionConstraint, ConstraintMix\n",
    "from tobbo.models.membrane import BinaryElasticMembraneModel, RigidEdge, Load\n",
    "\n",
    "from shapely.geometry import Point, LineString\n",
    "\n",
    "def create_vertical_cantilever_problem(topology: Topology, parameterization: Parameterization) -> ProblemInstance :\n",
    "    model = BinaryElasticMembraneModel(\n",
    "        topology, thickness=1, E11=25, E22=1, G12=0.5, nu12=0.25, Emin=1e-9\n",
    "    )\n",
    "    # The Rigid Edge BC is now on the top of the domain instead of the left\n",
    "    model.bcs.add(RigidEdge(\n",
    "        nodes=model.mesh.nodes[-1, :], state=model.state)\n",
    "    )\n",
    "    # Load is now applied on the bottom middle node of the mesh\n",
    "    model.bcs.add(Load(\n",
    "        nodes=[model.mesh.nodes[0, model.mesh.nelx//2]], loads=[(-0.1, 0)])\n",
    "    )\n",
    "    topology_constraints = [\n",
    "        VolumeConstraint(\n",
    "            weight=1e3, \n",
    "            max_relative_volume=0.5\n",
    "        ),\n",
    "        DisconnectionConstraint(\n",
    "            weight=1e3,\n",
    "            topology=topology,\n",
    "            boundaries=[\n",
    "                # The the wall\n",
    "                LineString([(0,topology.domain_size_y), (topology.domain_size_x,topology.domain_size_y)]),\n",
    "                # The loading point:\n",
    "                Point(topology.domain_size_x/2, 0),\n",
    "            ]\n",
    "        )\n",
    "    ]\n",
    "    constraint_mixer = ConstraintMix(1, topology_constraints, offset=500)\n",
    "    objective = lambda model : model.compute_element_compliance().sum()\n",
    "    return ProblemInstance(topology, parameterization, model, [constraint_mixer], objective)"
   ]
  },
  {
   "cell_type": "code",
   "execution_count": 18,
   "id": "6a69508a",
   "metadata": {},
   "outputs": [
    {
     "name": "stdout",
     "output_type": "stream",
     "text": [
      "[stop]\n"
     ]
    }
   ],
   "source": [
    "topology = Topology(continuous=False, domain_size=(50,50), density=1.)\n",
    "\n",
    "parameterization = Capsules(topology,\n",
    "    symmetry_x=True, \n",
    "    symmetry_y=False,\n",
    "    n_components=1,\n",
    "    representation=MMCCenterpointsConfig,\n",
    "    deformer=None,\n",
    "    n_samples=1000\n",
    ")\n",
    "\n",
    "problem: ProblemInstance = create_vertical_cantilever_problem(\n",
    "    topology, \n",
    "    parameterization\n",
    ")\n",
    "\n",
    "run_experiment(problem, \n",
    "    budget=100, \n",
    "    seed=3141, \n",
    "    name='vertical', \n",
    "    method=OptimizationMethod.DE\n",
    ")"
   ]
  },
  {
   "cell_type": "code",
   "execution_count": 19,
   "id": "2c8e9c2a",
   "metadata": {},
   "outputs": [
    {
     "data": {
      "image/png": "[encoded data removed]",
      "text/plain": [
       "<Figure size 640x480 with 1 Axes>"
      ]
     },
     "metadata": {},
     "output_type": "display_data"
    }
   ],
   "source": [
    "simulations = np.arange(1,problem.budget+1)\n",
    "best_fitness = np.inf*np.ones(problem.budget, dtype=float)\n",
    "\n",
    "best_fitness[[i-1 for i in problem.log['simulations']]] = problem.log['fitness']\n",
    "best_fitness = np.minimum.accumulate(best_fitness)\n",
    "\n",
    "fig, ax = plt.subplots()\n",
    "ins = ax.inset_axes([0.4,0.4,0.5,0.5])\n",
    "\n",
    "ax.semilogy(simulations, best_fitness)\n",
    "problem.plot_best(ins)\n",
    "\n",
    "ax.set_xlabel('Simulation Calls'); ax.set_ylabel('Compliance'); fig.tight_layout()"
   ]
  }
 ],
 "metadata": {
  "kernelspec": {
   "display_name": ".venv",
   "language": "python",
   "name": "python3"
  },
  "language_info": {
   "codemirror_mode": {
    "name": "ipython",
    "version": 3
   },
   "file_extension": ".py",
   "mimetype": "text/x-python",
   "name": "python",
   "nbconvert_exporter": "python",
   "pygments_lexer": "ipython3",
   "version": "3.11.11"
  }
 },
 "nbformat": 4,
 "nbformat_minor": 5
}
